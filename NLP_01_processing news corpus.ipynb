{
 "cells": [
  {
   "cell_type": "markdown",
   "metadata": {},
   "source": [
    "# Project 1. NIKL News corpus processing\n",
    "\n",
    "- 국립 국어원(National Institute of the Korean Language, NIKL)\n",
    "- You can recieve NIKL's newspaper corpus data after joining the NIKL.\n",
    "- Processing the newspaper corpus data into a pandas format([link](https://corpus.korean.go.kr/)).\n",
    "  - The final dataframe should contain FileName, Date, NewsPaper, Topic, Original_Topic, News categories."
   ]
  },
  {
   "cell_type": "markdown",
   "metadata": {},
   "source": [
    "### Example of news paper corpus format\n",
    "- The newspaper corpus data is saved as json formate file like below."
   ]
  },
  {
   "cell_type": "code",
   "execution_count": null,
   "metadata": {},
   "outputs": [],
   "source": [
    "{\n",
    "    \"id\": \"NLRW1900000151\",\n",
    "    \"metadata\": {\n",
    "        \"title\": \"국립국어원 신문 말뭉치 NLRW1900000151\",\n",
    "        \"creator\": \"국립국어원\",\n",
    "        \"distributor\": \"국립국어원\",\n",
    "        \"year\": \"2019\",\n",
    "        \"category\": \"신문 > 지역 종합지\",\n",
    "        \"annotation_level\": [\n",
    "            \"원시\"\n",
    "        ],\n",
    "        \"sampling\": \"부분 추출 - 임의 추출\"\n",
    "    },\n",
    "    \"document\": [\n",
    "        {\n",
    "            \"id\": \"NLRW1900000151.1\",\n",
    "            \"metadata\": {\n",
    "                \"title\": \"영남일보 2017년 기사\",\n",
    "                \"author\": \"구경모기자\",\n",
    "                \"publisher\": \"영남일보\",\n",
    "                \"date\": \"20170105\",\n",
    "                \"topic\": \"사회\",\n",
    "                \"original_topic\": \"정치\"\n",
    "            },\n",
    "            \"paragraph\": [\n",
    "                {\n",
    "                    \"id\": \"NLRW1900000151.1.1\",\n",
    "                    \"form\": \"軍 “北 김정은 제거 특수여단 올해 창설”\"\n",
    "                },\n",
    "                {\n",
    "                    \"id\": \"NLRW1900000151.1.2\",\n",
    "                    \"form\": \"북한의 핵·대량살상무기(WMD) 위협에 대비한 특수임무여단이 창설된다. 국방부는 4일 황교안 대통령 권한대\n",
    "행 에게 새해 첫 업무보고를 하는 자리에서 “유사시 북한 전쟁지도부를 제거하고 기능을 마비시키는 임무를 수행하는 특수임무여단을 올해\n",
    " 조기에 창설하는 계획을 국방개혁기본계획에 반영했다”며 이같이 밝혔다. ☞15면에 관련기사\"\n",
    "                },\n",
    "                {\n",
    "                    \"id\": \"NLRW1900000151.1.3\",\n",
    "                    \"form\": \"국방부에 따르면 특수임무여단은 한반도 유사시 평양에 진입해 핵무기 발사명령 권한을 가지고 있는 김정은\n",
    " 북한 노동당 위원장을 비롯한 전쟁지도부를 제거하고, 전쟁지휘시설을 마비시키는 임무를 수행한다.\"\n",
    "                },\n",
    "                {\n",
    "                    \"id\": \"NLRW1900000151.1.4\",\n",
    "                    \"form\": \"북한의 핵 능력과 관련해서는 “북한은 강력한 국제제재와 압박에도 핵·미사일 능력 고도화에 혈안이 되어 \n",
    "있으며, 통전(통일전선) 책동 강화와 함께 전략·전술적 도발을 감행할 가능성이 있다\\\"고 밝혔다.\"\n",
    "                },\n",
    "                {\n",
    "                    \"id\": \"NLRW1900000151.1.5\",\n",
    "                    \"form\": \"군 당국은 지난해부터 특수임무여단이 사용할 개인화기와 통신장비 등을 마련해 왔다. 특히 특수임무여단의\n",
    " 침투를 돕기 위해 특수장비로 개조된 헬기와 수송기 등 항공전력도 중·장기적으로 도입할 계획이다.\"\n",
    "                },\n",
    "                {\n",
    "                    \"id\": \"NLRW1900000151.1.6\",\n",
    "                    \"form\": \"국방부 관계자는 “특수임무여단 창설은 당초 2019년으로 예정했는데 2년 앞당기게 됐다”며 “여단은 육군 특\n",
    "수전사령부 예하의 일부 부대를 재편성해 만들어진다. 북한 수뇌부를 비롯해 핵시설, 미사일 기지, 대량살상무기 관련 시설 등이 목표”라\n",
    "고 말했다.\"\n",
    "                },\n",
    "                {\n",
    "                    \"id\": \"NLRW1900000151.1.7\",\n",
    "                    \"form\": \"한편 황교안 권한대행은 이날부터 11일까지 ‘2017년 정부 부처 업무보고’를 받는다. 정부 각 부처가 새해 \n",
    "국정의 기본 그림을 보고하는 업무보고는 박근혜 대통령의 직무 정지로 황 권한대행이 하게 됐다.\"\n",
    "                }\n",
    "            ]\n",
    "        },\n",
    "        {\n",
    "            \"id\": \"NLRW1900000151.2\",\n",
    "            \"metadata\": {\n",
    "                \"title\": \"영남일보 2017년 기사\",\n",
    "                \"author\": \"최수경기자\",\n",
    "                \"publisher\": \"영남일보\",\n",
    "                \"date\": \"20170105\",\n",
    "                \"topic\": \"정치\",\n",
    "                \"original_topic\": \"정치\"\n",
    "            },\n",
    "            \"paragraph\": [\n",
    "                {\n",
    "                    \"id\": \"NLRW1900000151.2.1\",\n",
    "                    \"form\": \"權 시장 “엑스코線 올해 예타 신청”\"\n",
    "                },\n",
    "                {\n",
    "                    \"id\": \"NLRW1900000151.2.2\",\n",
    "                    \"form\": \"권영진 대구시장은 4일 “대구도시철도 엑스코선(동대구역~경북대~산격동 시청별관~종합유통단지~검단들) 연\n",
    "결사업을 올해 예비타당성조사대상사업으로 정부에 신청하겠다”고 밝혔다.\"\n",
    "                },\n",
    "                {\n",
    "                    \"id\": \"NLRW1900000151.2.3\",\n",
    "                    \"form\": \"권 시장은 이날 대구시청에서 열린 신년 기자회견에서 “엑스코선 연결사업은 과거 지하화로 추진했을 땐 경\n",
    "제성이 떨어져 무산됐다. 이 부분은 지금도 마찬가지라고 본다”면서 “하지만 도시철도 3호선(모노레일)이나 트램(노면전차) 방식으로 추진\n",
    "하면 경제성이 있을 것”이라고 강조했다. 이어 “앞으로 개발될 검단들까지 노선이 연장되면, 사업방식에 따라서 경제성이 더 나올 가능성\n",
    "이 있다”면서 “올해 예타신청을 계기로, 가급적 2021년 세계가스총회 때 개통했으면 좋겠다. 다소 어려움이 있겠지만 최대한 빨리 추진하\n",
    "겠다”고 덧붙였다.\"\n",
    "                },\n",
    "                {\n",
    "                    \"id\": \"NLRW1900000151.2.4\",\n",
    "                    \"form\": \"대구도시철도 ‘엑스코선 구간’은 다른 구간에 비해 유동인구가 많아 이미 오래전부터 도시철도 건설 필요성\n",
    "이 꾸준히 제기돼 온 곳이다. 특히 이 구간엔 경북대·영진전문대 등의 대학들도 자리잡고 있어 학생과 교직원들의 학교 접근성이 크게 향\n",
    "상될 것으로 보인다.\"\n",
    "                },\n",
    "                {\n",
    "                    \"id\": \"NLRW1900000151.2.5\",\n",
    "                    \"form\": \"아울러 권 시장은 창업생태계조성 차원에서 지역 창업기업에 투자할 엔젤투자자(민간투자자) 육성에 적극 \n",
    "나서겠다는 의지도 피력했다. 우선 이스라엘의 대표적 벤처캐피털이자 스타트업 지원펀드인 ‘요즈마 그룹’과의 협업을 추진한다. 대구창조\n",
    "경제혁신센터를 통해 기업창업을 진두지휘하는 삼성측에 대해선 “자체 벤처육성 프로그램인 C-Lab(Creative Lab)에 있는 기업에만 투자하\n",
    "지 말고, 앞으론 창업보육기업을 만드는 데도 직접 참여했으면 한다”고 말했다.\"\n",
    "                }\n",
    "            ]\n",
    "        },"
   ]
  },
  {
   "cell_type": "markdown",
   "metadata": {},
   "source": [
    "### Category\n",
    "- FileName : Title\n",
    "- Date\n",
    "- NewsPaper  \n",
    "- Topic : Classified by NIKL\n",
    "- Original_Topic : Calssified by newspaper\n",
    "- News : Contents of the article"
   ]
  },
  {
   "cell_type": "markdown",
   "metadata": {},
   "source": [
    "## JSON to CSV"
   ]
  },
  {
   "cell_type": "code",
   "execution_count": 1,
   "metadata": {},
   "outputs": [],
   "source": [
    "import os, json\n",
    "import pandas as pd\n",
    "from pandas.io.json import json_normalize"
   ]
  },
  {
   "cell_type": "code",
   "execution_count": null,
   "metadata": {},
   "outputs": [],
   "source": [
    "corpus_path = {PATH_TO_CORPUS_FILE}\n",
    "result_path = {PATH_TO_RESULT_DATAFRAME}"
   ]
  },
  {
   "cell_type": "code",
   "execution_count": 3,
   "metadata": {},
   "outputs": [],
   "source": [
    "def get_paragraph(news):\n",
    "    result = []\n",
    "    for line in news:\n",
    "        result.append('<p>' + line[\"form\"] + '</p>') # add <p> </p> to distinguish a paragraph\n",
    "    return result"
   ]
  },
  {
   "cell_type": "code",
   "execution_count": 4,
   "metadata": {},
   "outputs": [],
   "source": [
    "def process_json(filename):\n",
    "    with open(corpus_path + filename, encoding=\"UTF8\") as data_file:    \n",
    "        data = json.load(data_file)  \n",
    "\n",
    "    df = json_normalize(data, 'document')\n",
    "    df = df.drop(columns=['id', 'metadata.title', 'metadata.author'])\n",
    "    \n",
    "    df['FileName'] = filename\n",
    "    df = df.rename(columns={\"paragraph\": \"News\", \"metadata.publisher\": \"NewsPaper\", \"metadata.date\":\"Date\", \"metadata.topic\":\"Topic\",\\\n",
    "                       \"metadata.original_topic\":\"Original_Topic\"})\n",
    "    df = df[[\"FileName\", \"Date\", \"NewsPaper\", \"Topic\", \"Original_Topic\", \"News\"]]\n",
    "    \n",
    "    df.News = df.News.apply(lambda x: get_paragraph(x))\n",
    "    \n",
    "    return df"
   ]
  },
  {
   "cell_type": "code",
   "execution_count": 5,
   "metadata": {},
   "outputs": [
    {
     "name": "stderr",
     "output_type": "stream",
     "text": [
      "C:\\Users\\JY\\Anaconda3\\lib\\site-packages\\ipykernel_launcher.py:5: FutureWarning: pandas.io.json.json_normalize is deprecated, use pandas.json_normalize instead\n",
      "  \"\"\"\n"
     ]
    }
   ],
   "source": [
    "filename_list = os.listdir(corpus_path)\n",
    "\n",
    "total_df = pd.DataFrame()\n",
    "for filename in filename_list:\n",
    "    if filename.endswith('json'): # to prevent processing pdf file\n",
    "        total_df = total_df.append(process_json(filename))"
   ]
  },
  {
   "cell_type": "code",
   "execution_count": 6,
   "metadata": {},
   "outputs": [],
   "source": [
    "total_df.to_csv(result_path + 'newspaper.csv', encoding='utf-8', index=False)"
   ]
  },
  {
   "cell_type": "markdown",
   "metadata": {},
   "source": [
    "## CSV to DF"
   ]
  },
  {
   "cell_type": "code",
   "execution_count": 7,
   "metadata": {},
   "outputs": [
    {
     "data": {
      "text/html": [
       "<div>\n",
       "<style scoped>\n",
       "    .dataframe tbody tr th:only-of-type {\n",
       "        vertical-align: middle;\n",
       "    }\n",
       "\n",
       "    .dataframe tbody tr th {\n",
       "        vertical-align: top;\n",
       "    }\n",
       "\n",
       "    .dataframe thead th {\n",
       "        text-align: right;\n",
       "    }\n",
       "</style>\n",
       "<table border=\"1\" class=\"dataframe\">\n",
       "  <thead>\n",
       "    <tr style=\"text-align: right;\">\n",
       "      <th></th>\n",
       "      <th>FileName</th>\n",
       "      <th>Date</th>\n",
       "      <th>NewsPaper</th>\n",
       "      <th>Topic</th>\n",
       "      <th>Original_Topic</th>\n",
       "      <th>News</th>\n",
       "    </tr>\n",
       "  </thead>\n",
       "  <tbody>\n",
       "    <tr>\n",
       "      <th>0</th>\n",
       "      <td>NIRW1900000011.json</td>\n",
       "      <td>20090101</td>\n",
       "      <td>전자신문</td>\n",
       "      <td>경제</td>\n",
       "      <td>기획/특집</td>\n",
       "      <td>['&lt;p&gt;氣운 북돋워 다시 祝배를&lt;/p&gt;', '&lt;p&gt;“위기는 한시적이다. 위기 이후...</td>\n",
       "    </tr>\n",
       "    <tr>\n",
       "      <th>1</th>\n",
       "      <td>NIRW1900000011.json</td>\n",
       "      <td>20090101</td>\n",
       "      <td>전자신문</td>\n",
       "      <td>IT/과학</td>\n",
       "      <td>기획/특집</td>\n",
       "      <td>['&lt;p&gt;`내 손안의 PC` 스마트폰 열풍&lt;/p&gt;', '&lt;p&gt;‘편의성을 높이고 사용...</td>\n",
       "    </tr>\n",
       "    <tr>\n",
       "      <th>2</th>\n",
       "      <td>NIRW1900000011.json</td>\n",
       "      <td>20090101</td>\n",
       "      <td>전자신문</td>\n",
       "      <td>문화</td>\n",
       "      <td>기획/특집</td>\n",
       "      <td>['&lt;p&gt;가상현실-꿈과 현실이 만나는 곳 새 시장 열린다&lt;/p&gt;', '&lt;p&gt;지난 미...</td>\n",
       "    </tr>\n",
       "    <tr>\n",
       "      <th>3</th>\n",
       "      <td>NIRW1900000011.json</td>\n",
       "      <td>20090101</td>\n",
       "      <td>전자신문</td>\n",
       "      <td>IT/과학</td>\n",
       "      <td>기획/특집</td>\n",
       "      <td>['&lt;p&gt;로봇- 또 하나의 내가 생긴다면‥&lt;/p&gt;', '&lt;p&gt;새해는 로봇산업에 대한...</td>\n",
       "    </tr>\n",
       "    <tr>\n",
       "      <th>4</th>\n",
       "      <td>NIRW1900000011.json</td>\n",
       "      <td>20090101</td>\n",
       "      <td>전자신문</td>\n",
       "      <td>경제</td>\n",
       "      <td>기획/특집</td>\n",
       "      <td>['&lt;p&gt;변수와 대책- 세계 각국은 지금&lt;/p&gt;', '&lt;p&gt;금융 위기가 실물 경제 ...</td>\n",
       "    </tr>\n",
       "  </tbody>\n",
       "</table>\n",
       "</div>"
      ],
      "text/plain": [
       "              FileName      Date NewsPaper  Topic Original_Topic  \\\n",
       "0  NIRW1900000011.json  20090101      전자신문     경제          기획/특집   \n",
       "1  NIRW1900000011.json  20090101      전자신문  IT/과학          기획/특집   \n",
       "2  NIRW1900000011.json  20090101      전자신문     문화          기획/특집   \n",
       "3  NIRW1900000011.json  20090101      전자신문  IT/과학          기획/특집   \n",
       "4  NIRW1900000011.json  20090101      전자신문     경제          기획/특집   \n",
       "\n",
       "                                                News  \n",
       "0  ['<p>氣운 북돋워 다시 祝배를</p>', '<p>“위기는 한시적이다. 위기 이후...  \n",
       "1  ['<p>`내 손안의 PC` 스마트폰 열풍</p>', '<p>‘편의성을 높이고 사용...  \n",
       "2  ['<p>가상현실-꿈과 현실이 만나는 곳 새 시장 열린다</p>', '<p>지난 미...  \n",
       "3  ['<p>로봇- 또 하나의 내가 생긴다면‥</p>', '<p>새해는 로봇산업에 대한...  \n",
       "4  ['<p>변수와 대책- 세계 각국은 지금</p>', '<p>금융 위기가 실물 경제 ...  "
      ]
     },
     "execution_count": 7,
     "metadata": {},
     "output_type": "execute_result"
    }
   ],
   "source": [
    "news = pd.read_csv(result_path + 'newspaper.csv')\n",
    "news.head(5)"
   ]
  }
 ],
 "metadata": {
  "kernelspec": {
   "display_name": "Python 3",
   "language": "python",
   "name": "python3"
  },
  "language_info": {
   "codemirror_mode": {
    "name": "ipython",
    "version": 3
   },
   "file_extension": ".py",
   "mimetype": "text/x-python",
   "name": "python",
   "nbconvert_exporter": "python",
   "pygments_lexer": "ipython3",
   "version": "3.7.6"
  }
 },
 "nbformat": 4,
 "nbformat_minor": 2
}
